{
  "nbformat": 4,
  "nbformat_minor": 0,
  "metadata": {
    "colab": {
      "provenance": []
    },
    "kernelspec": {
      "name": "python3",
      "display_name": "Python 3"
    },
    "language_info": {
      "name": "python"
    }
  },
  "cells": [
    {
      "cell_type": "markdown",
      "source": [
        "1.What is the difference between interpreted and compiled languages?\n",
        " - Compiled Languages:-\n",
        "    - Code is translated entirely into machine code by a compiler before it runs.\n",
        "    - A compiler converts the whole program into a binary/executable file.\n",
        " - Interpreted Languages:-\n",
        "   - Code is executed line-by-line or in chunks by an interpreter, without a separate compilation step.\n",
        "   - An interpreter reads and executes it directly.\n",
        "\n",
        "2.What is exception handling in Python?\n",
        " - Exception handling in Python is a way to gracefully handle errors that occur during the execution of a program, so the program doesn't crash unexpectedly.\n",
        "\n",
        "3.What is the purpose of the finally block in exception handling?\n",
        " - Purpose of the finally Block\n",
        "   - Ensure critical code always runs, such as:\n",
        "     - Closing a file\n",
        "    - Releasing system resources\n",
        "     - Cleaning up memory or temporary data\n",
        "\n",
        "4.What is logging in Python?\n",
        " - Logging in Python is a built-in way to track events and issues that happen when your code runs. It’s mainly used for:\n",
        "   - Debugging and troubleshooting\n",
        "  - Monitoring code in production\n",
        "\n",
        "5.What is the significance of the __del__ method in Python?\n",
        " - The __del__ method in Python is a special method known as a destructor. It is called automatically when an object is about to be destroyed, usually when there are no more references to it.\n",
        " - Closing files\n",
        " - Releasing network or database connections\n",
        " - Cleaning up external resources (e.g., temp files)\n",
        "\n",
        "6.What is the difference between import and from ... import in Python0?\n",
        " - import module\n",
        "    - Imports the whole module\n",
        "    - You need to use the module name as a prefix to access anything from it\n",
        " - from module import name\n",
        "    - Imports specific objects (functions, classes, variables) from a module\n",
        "    - You don’t need the module name to access them\n",
        "\n",
        "7.How can you handle multiple exceptions in Python?\n",
        " - In Python, you can handle multiple exceptions using multiple except blocks, or by grouping exceptions into a tuple. This lets you respond differently to different errors, or handle several errors the same way.\n",
        "\n",
        "8.What is the purpose of the with statement when handling files in Python?\n",
        " - The with statement in Python is used to manage resources like file streams in a safe and clean way. When used with files, it automatically handles opening and closing the file—even if an error occurs while the file is being used.\n",
        "\n",
        "9.What is the difference between multithreading and multiprocessing?\n",
        " - Multithreading\n",
        "    - Runs multiple threads within the same process\n",
        "    - Threads share the same memory space\n",
        "    - Best for I/O-bound tasks (e.g., file access, network requests)\n",
        " - Multiprocessing\n",
        "    - Runs multiple processes, each with its own memory space\n",
        "    - Can fully utilize multiple CPU cores\n",
        "    - Best for CPU-bound tasks (e.g., computation-heavy operations)\n",
        "\n",
        "10.What are the advantages of using logging in a program?\n",
        " - Logging provides a systematic and flexible way to track the behavior of your code, especially as it grows in complexity or moves into production.\n",
        "\n",
        "11.What is memory management in Python?\n",
        " - Memory management in Python refers to how Python allocates, manages, and frees memory used by your program during its execution.\n",
        "\n",
        "12.What are the basic steps involved in exception handling in Python?\n",
        " - Write the Code That Might Cause an Exception\n",
        " - Catch Exceptions Using except Block\n",
        " - Optionally Use an else Block\n",
        " - Optionally Use a finally Block\n",
        "\n",
        "13.Why is memory management important in Python?\n",
        " - Memory management is crucial because it ensures your Python programs run efficiently, reliably, and without crashes. Here’s why it matters:\n",
        "   - Efficient Use of System Resources\n",
        "   - Prevents Memory Leaks\n",
        "   - Maintains Program Stability\n",
        "\n",
        "14.What is the role of try and except in exception handling?\n",
        " - try Block\n",
        "    - The try block contains the code that might raise an exception.\n",
        "    - Python executes the code inside try.\n",
        " - except Block\n",
        "    - The except block catches and handles specific exceptions raised inside the try block.\n",
        "    - You can specify which exception type to catch.\n",
        "\n",
        "15.How does Python's garbage collection system work?\n",
        " - Python’s garbage collection (GC) system is responsible for automatically reclaiming memory by deleting objects that are no longer needed, preventing memory leaks.\n",
        "\n",
        "16.What is the purpose of the else block in exception handling?\n",
        " - The else block in a try-except statement is used to run code only if no exception was raised in the try block.\n",
        " - Keeps the successful execution code separate from error handling.\n",
        " - Makes the code cleaner and easier to read.\n",
        "\n",
        "17.What are the common logging levels in Python?\n",
        " - DEBUG: Lowest level, very verbose, useful in development.\n",
        " - INFO: Normal operation messages.\n",
        " - WARNING: Something unexpected but not fatal.\n",
        " - ERROR: Serious issue preventing a function/task.\n",
        " - CRITICAL: Severe error causing program shutdown or critical failur\n",
        "\n",
        "18.What is the difference between os.fork() and multiprocessing in Python?\n",
        " - os.fork()\n",
        "    - Creates a new child process by duplicating the current process (the parent). The child is an almost exact copy of the parent.\n",
        "    - Mostly used in UNIX/Linux systems for fine-grained control over process creation.\n",
        " - multiprocessing Module\n",
        "    - A high-level Python API for creating and managing processes. It works across platforms (Windows, macOS, Linux).\n",
        "    - Recommended for most Python programs needing parallelism, especially CPU-bound tasks.\n",
        "\n",
        "19.What is the importance of closing a file in Python?\n",
        " - Closing a file after you're done working with it is important for several reasons:\n",
        "    - Flushes Data to Disk\n",
        "    - Releases System Resources\n",
        "    - Prevents Data Corruption\n",
        "\n",
        "20.What is the difference between file.read() and file.readline() in Python?\n",
        " - file.read()\n",
        "    - Reads the entire contents of the file (or up to a specified number of bytes) at once.\n",
        "    - Returns a single string containing all the data.\n",
        " - file.readline()\n",
        "    - Reads the file line-by-line, returning one line each time it is called.\n",
        "    - Returns a string containing the next line, including the newline character \\n (except for the last line if it doesn’t end with a newline).\n",
        "\n",
        "21.What is the logging module in Python used for?\n",
        " - The logging module in Python is used for tracking events that happen when some software runs. It allows you to record messages that describe the flow and state of a program, which is extremely helpful for:\n",
        "    - Debugging — understanding what your program was doing before something went wrong\n",
        "    - Monitoring — keeping an eye on a running application’s behavior\n",
        "    - Auditing — recording important actions or errors for later review\n",
        "\n",
        "22.What is the os module in Python used for in file handling?\n",
        " - File and Directory Operations\n",
        " - Path Manipulations\n",
        " - File Information\n",
        "\n",
        "23.What are the challenges associated with memory management in Python?\n",
        " - Reference Cycles\n",
        " - Unintended Object Retention\n",
        " - Memory Fragmentation\n",
        " - Large Objects and Data Structures\n",
        "\n",
        "24.How do you raise an exception manually in Python?\n",
        " - Use the raise keyword followed by the exception type and an optional error message.\n",
        " - This immediately stops normal execution and sends the error up the call stack unless caught.\n",
        "\n",
        "25.Why is it important to use multithreading in certain applications?\n",
        " - Improves Responsiveness\n",
        " - Better Utilization of I/O Bound Tasks\n",
        " - Simplifies Program Structure\n",
        " - Resource Sharing\n"
      ],
      "metadata": {
        "id": "-3hfPiWj3UX6"
      }
    },
    {
      "cell_type": "code",
      "source": [
        "# How can you open a file for writing in Python and write a string to it?\n",
        "with open('example.txt', 'w') as file:\n",
        "    file.write(\"Hello, world!\")\n",
        "with open('example.txt', 'r') as file:\n",
        "    contents = file.read()\n",
        "    print(contents)"
      ],
      "metadata": {
        "id": "eMG7zOPuCSQd",
        "colab": {
          "base_uri": "https://localhost:8080/"
        },
        "outputId": "06d39c97-4abe-4d6e-d546-77015ff5b4bf"
      },
      "execution_count": 2,
      "outputs": [
        {
          "output_type": "stream",
          "name": "stdout",
          "text": [
            "Hello, world!\n"
          ]
        }
      ]
    },
    {
      "cell_type": "code",
      "source": [
        "#Write a Python program to read the contents of a file and print each line?\n",
        "with open('example.txt', 'r') as file:\n",
        "    for line in file:\n",
        "        print(line, end='')"
      ],
      "metadata": {
        "colab": {
          "base_uri": "https://localhost:8080/"
        },
        "id": "TXWPLtbHmZlg",
        "outputId": "6d1a8377-7739-48cc-bd83-7be4dcd19b28"
      },
      "execution_count": 3,
      "outputs": [
        {
          "output_type": "stream",
          "name": "stdout",
          "text": [
            "Hello, world!"
          ]
        }
      ]
    },
    {
      "cell_type": "code",
      "source": [
        "# How would you handle a case where the file doesn't exist while trying to open it for reading?\n",
        "filename = 'example.txt'\n",
        "try:\n",
        "    with open(filename, 'r') as file:\n",
        "        for line in file:\n",
        "            print(line, end='')\n",
        "except FileNotFoundError:\n",
        "    print(f\"Error: The file '{filename}' was not found.\")"
      ],
      "metadata": {
        "colab": {
          "base_uri": "https://localhost:8080/"
        },
        "id": "1evNt4gXmwRq",
        "outputId": "2d3bdad1-1c57-4fc9-caa9-63f182d14b22"
      },
      "execution_count": 4,
      "outputs": [
        {
          "output_type": "stream",
          "name": "stdout",
          "text": [
            "Hello, world!"
          ]
        }
      ]
    },
    {
      "cell_type": "code",
      "source": [
        "#Write a Python script that reads from one file and writes its content to another file?\n",
        "source_file = 'input.txt'\n",
        "destination_file = 'output.txt'\n",
        "try:\n",
        "    with open(source_file, 'r') as infile:\n",
        "        content = infile.read()\n",
        "    with open(destination_file, 'w') as outfile:\n",
        "        outfile.write(content)\n",
        "    print(f\"Contents copied from '{source_file}' to '{destination_file}'.\")\n",
        "except FileNotFoundError:\n",
        "    print(f\"Error: The file '{source_file}' was not found.\")\n",
        "except Exception as e:\n",
        "    print(f\"An error occurred: {e}\")"
      ],
      "metadata": {
        "colab": {
          "base_uri": "https://localhost:8080/"
        },
        "id": "BB1O2KNRnG7B",
        "outputId": "0e737278-e3bf-4468-f9b9-e3c5d7e21b37"
      },
      "execution_count": 5,
      "outputs": [
        {
          "output_type": "stream",
          "name": "stdout",
          "text": [
            "Error: The file 'input.txt' was not found.\n"
          ]
        }
      ]
    },
    {
      "cell_type": "code",
      "source": [
        "#How would you catch and handle division by zero error in Python?\n",
        "try:\n",
        "    numerator = 10\n",
        "    denominator = 0\n",
        "    result = numerator / denominator\n",
        "    print(\"Result:\", result)\n",
        "except ZeroDivisionError:\n",
        "    print(\"Error: Cannot divide by zero.\")"
      ],
      "metadata": {
        "colab": {
          "base_uri": "https://localhost:8080/"
        },
        "id": "7pOO7YHxntbU",
        "outputId": "cd310c7c-f3fc-4cda-bd0a-533e375088e9"
      },
      "execution_count": 6,
      "outputs": [
        {
          "output_type": "stream",
          "name": "stdout",
          "text": [
            "Error: Cannot divide by zero.\n"
          ]
        }
      ]
    },
    {
      "cell_type": "code",
      "source": [
        "#Write a Python program that logs an error message to a log file when a division by zero exception occurs?\n",
        "import logging\n",
        "logging.basicConfig(\n",
        "    filename='error.log',\n",
        "    level=logging.ERROR,\n",
        "    format='%(asctime)s - %(levelname)s - %(message)s'\n",
        ")\n",
        "try:\n",
        "    numerator = 10\n",
        "    denominator = 0\n",
        "    result = numerator / denominator\n",
        "    print(\"Result:\", result)\n",
        "except ZeroDivisionError as e:\n",
        "    print(\"Error: Cannot divide by zero.\")\n",
        "    logging.error(\"Attempted division by zero: %s\", e)"
      ],
      "metadata": {
        "colab": {
          "base_uri": "https://localhost:8080/"
        },
        "id": "ZVHfQPCun66S",
        "outputId": "43a0f6bc-f543-4627-9f84-d21be87cbbc7"
      },
      "execution_count": 7,
      "outputs": [
        {
          "output_type": "stream",
          "name": "stderr",
          "text": [
            "ERROR:root:Attempted division by zero: division by zero\n"
          ]
        },
        {
          "output_type": "stream",
          "name": "stdout",
          "text": [
            "Error: Cannot divide by zero.\n"
          ]
        }
      ]
    },
    {
      "cell_type": "code",
      "source": [
        "#How do you log information at different levels (INFO, ERROR, WARNING) in Python using the logging module?\n",
        "import logging\n",
        "logging.basicConfig(\n",
        "    filename='app.log',\n",
        "    level=logging.DEBUG,\n",
        "    format='%(asctime)s - %(levelname)s - %(message)s'\n",
        ")\n",
        "logging.debug(\"This is a debug message\")\n",
        "logging.info(\"This is an info message\")\n",
        "logging.warning(\"This is a warning message\")\n",
        "logging.error(\"This is an error message\")\n",
        "logging.critical(\"This is a critical message\")"
      ],
      "metadata": {
        "colab": {
          "base_uri": "https://localhost:8080/"
        },
        "id": "oAHexuNgoJXo",
        "outputId": "0b02e012-96d8-4c95-e760-d544885f1d4d"
      },
      "execution_count": 8,
      "outputs": [
        {
          "output_type": "stream",
          "name": "stderr",
          "text": [
            "WARNING:root:This is a warning message\n",
            "ERROR:root:This is an error message\n",
            "CRITICAL:root:This is a critical message\n"
          ]
        }
      ]
    },
    {
      "cell_type": "code",
      "source": [
        "#Write a program to handle a file opening error using exception handling.\n",
        "filename = 'nonexistent_file.txt'\n",
        "try:\n",
        "    with open(filename, 'r') as file:\n",
        "        contents = file.read()\n",
        "        print(\"File contents:\\n\", contents)\n",
        "except FileNotFoundError:\n",
        "    print(f\"Error: The file '{filename}' was not found.\")\n",
        "except PermissionError:\n",
        "    print(f\"Error: You do not have permission to open '{filename}'.\")\n",
        "except Exception as e:\n",
        "    print(f\"An unexpected error occurred: {e}\")"
      ],
      "metadata": {
        "colab": {
          "base_uri": "https://localhost:8080/"
        },
        "id": "XJQUHlTAoZmp",
        "outputId": "b5701fca-793e-4425-c1c1-2d0005a775d9"
      },
      "execution_count": 9,
      "outputs": [
        {
          "output_type": "stream",
          "name": "stdout",
          "text": [
            "Error: The file 'nonexistent_file.txt' was not found.\n"
          ]
        }
      ]
    },
    {
      "cell_type": "code",
      "source": [
        "#How can you read a file line by line and store its content in a list in Python?\n",
        "filename = 'example.txt'\n",
        "lines = []\n",
        "with open(filename, 'r') as file:\n",
        "    for line in file:\n",
        "        lines.append(line.rstrip('\\n'))\n",
        "\n",
        "print(lines)"
      ],
      "metadata": {
        "colab": {
          "base_uri": "https://localhost:8080/"
        },
        "id": "F4nLqdrfolWJ",
        "outputId": "598a3e1d-0e27-42e0-ec2d-cd27eac794ba"
      },
      "execution_count": 10,
      "outputs": [
        {
          "output_type": "stream",
          "name": "stdout",
          "text": [
            "['Hello, world!']\n"
          ]
        }
      ]
    },
    {
      "cell_type": "code",
      "source": [
        "#How can you append data to an existing file in Python?\n",
        "with open('example.txt', 'a') as file:\n",
        "    file.write(\"This line will be added at the end.\\n\")"
      ],
      "metadata": {
        "id": "UyOWRr_PowQH"
      },
      "execution_count": 11,
      "outputs": []
    },
    {
      "cell_type": "code",
      "source": [
        "#Write a Python program that uses a try-except block to handle an error when attempting to access a dictionary key that doesn't exist?\n",
        "my_dict = {'name': 'Alice', 'age': 30}\n",
        "\n",
        "try:\n",
        "    value = my_dict['address']\n",
        "    print(\"Address:\", value)\n",
        "except KeyError:\n",
        "    print(\"Error: The key 'address' does not exist in the dictionary.\")"
      ],
      "metadata": {
        "colab": {
          "base_uri": "https://localhost:8080/"
        },
        "id": "cYp4m0-Uo5lH",
        "outputId": "3d34bc20-539e-43b0-97fa-32150e8195ab"
      },
      "execution_count": 12,
      "outputs": [
        {
          "output_type": "stream",
          "name": "stdout",
          "text": [
            "Error: The key 'address' does not exist in the dictionary.\n"
          ]
        }
      ]
    },
    {
      "cell_type": "code",
      "source": [
        "#Write a program that demonstrates using multiple except blocks to handle different types of exceptions?\n",
        "try:\n",
        "    num1 = int(input(\"Enter numerator: \"))\n",
        "    num2 = int(input(\"Enter denominator: \"))\n",
        "    result = num1 / num2\n",
        "    print(\"Result:\", result)\n",
        "    sample_dict = {'a': 1, 'b': 2}\n",
        "    print(\"Value for key 'c':\", sample_dict['c'])\n",
        "except ZeroDivisionError:\n",
        "    print(\"Error: Cannot divide by zero.\")\n",
        "except ValueError:\n",
        "    print(\"Error: Invalid input. Please enter integers.\")\n",
        "except KeyError:\n",
        "    print(\"Error: The specified key does not exist in the dictionary.\")\n",
        "except Exception as e:\n",
        "    print(f\"An unexpected error occurred: {e}\")"
      ],
      "metadata": {
        "colab": {
          "base_uri": "https://localhost:8080/"
        },
        "id": "wOxDRJJGpC-v",
        "outputId": "311c957b-0046-4c88-dd11-abe0ad443cc7"
      },
      "execution_count": 14,
      "outputs": [
        {
          "output_type": "stream",
          "name": "stdout",
          "text": [
            "Enter numerator: 2\n",
            "Enter denominator: 2\n",
            "Result: 1.0\n",
            "Error: The specified key does not exist in the dictionary.\n"
          ]
        }
      ]
    },
    {
      "cell_type": "code",
      "source": [
        "#How would you check if a file exists before attempting to read it in Python?\n",
        "import os\n",
        "filename = 'example.txt'\n",
        "if os.path.exists(filename):\n",
        "    with open(filename, 'r') as file:\n",
        "        contents = file.read()\n",
        "        print(contents)\n",
        "else:\n",
        "    print(f\"The file '{filename}' does not exist.\")"
      ],
      "metadata": {
        "colab": {
          "base_uri": "https://localhost:8080/"
        },
        "id": "ykg0vpr3pQox",
        "outputId": "72bedc8f-f386-492e-e2b7-c08c40851593"
      },
      "execution_count": 15,
      "outputs": [
        {
          "output_type": "stream",
          "name": "stdout",
          "text": [
            "Hello, world!This line will be added at the end.\n",
            "\n"
          ]
        }
      ]
    },
    {
      "cell_type": "code",
      "source": [
        "#Write a program that uses the logging module to log both informational and error messages?\n",
        "import logging\n",
        "logging.basicConfig(\n",
        "    filename='app.log',\n",
        "    level=logging.DEBUG,\n",
        "    format='%(asctime)s - %(levelname)s - %(message)s'\n",
        ")\n",
        "logging.info(\"Program started successfully.\")\n",
        "try:\n",
        "    x = 10\n",
        "    y = 0\n",
        "    result = x / y\n",
        "    logging.info(f\"Result of division is {result}.\")\n",
        "except ZeroDivisionError:\n",
        "    logging.error(\"Attempted division by zero.\")\n",
        "logging.info(\"Program ended.\")"
      ],
      "metadata": {
        "colab": {
          "base_uri": "https://localhost:8080/"
        },
        "id": "8EIBxrHxpZeO",
        "outputId": "1db794be-0912-494a-9405-46daead3024f"
      },
      "execution_count": 16,
      "outputs": [
        {
          "output_type": "stream",
          "name": "stderr",
          "text": [
            "ERROR:root:Attempted division by zero.\n"
          ]
        }
      ]
    },
    {
      "cell_type": "code",
      "source": [
        "#Write a Python program that prints the content of a file and handles the case when the file is empty?\n",
        "filename = 'example.txt'\n",
        "try:\n",
        "    with open(filename, 'r') as file:\n",
        "        contents = file.read()\n",
        "        if contents:\n",
        "            print(contents)\n",
        "        else:\n",
        "            print(f\"The file '{filename}' is empty.\")\n",
        "except FileNotFoundError:\n",
        "    print(f\"Error: The file '{filename}' was not found.\")\n",
        "except Exception as e:\n",
        "    print(f\"An unexpected error occurred: {e}\")"
      ],
      "metadata": {
        "colab": {
          "base_uri": "https://localhost:8080/"
        },
        "id": "SRhhS56gppE3",
        "outputId": "b017b215-8ae3-4a23-86a2-2a31396dc338"
      },
      "execution_count": 17,
      "outputs": [
        {
          "output_type": "stream",
          "name": "stdout",
          "text": [
            "Hello, world!This line will be added at the end.\n",
            "\n"
          ]
        }
      ]
    },
    {
      "cell_type": "code",
      "source": [
        "#Demonstrate how to use memory profiling to check the memory usage of a small program?\n",
        "from memory_profiler import memory_usage\n",
        "import time\n",
        "\n",
        "def some_function():\n",
        "    lst = [i for i in range(10**7)]\n",
        "    time.sleep(1)\n",
        "    return lst\n",
        "\n",
        "mem_usage = memory_usage(some_function)\n",
        "print(f\"Memory usage (in MiB): {mem_usage}\")\n"
      ],
      "metadata": {
        "colab": {
          "base_uri": "https://localhost:8080/",
          "height": 383
        },
        "id": "otITaE2hpyMw",
        "outputId": "057837d4-4a24-4a75-f92a-d96b50c1e5bb"
      },
      "execution_count": 22,
      "outputs": [
        {
          "output_type": "error",
          "ename": "ModuleNotFoundError",
          "evalue": "No module named 'memory_profiler'",
          "traceback": [
            "\u001b[0;31m---------------------------------------------------------------------------\u001b[0m",
            "\u001b[0;31mModuleNotFoundError\u001b[0m                       Traceback (most recent call last)",
            "\u001b[0;32m<ipython-input-22-3aa4c2b3694f>\u001b[0m in \u001b[0;36m<cell line: 0>\u001b[0;34m()\u001b[0m\n\u001b[1;32m      1\u001b[0m \u001b[0;31m#Demonstrate how to use memory profiling to check the memory usage of a small program?\u001b[0m\u001b[0;34m\u001b[0m\u001b[0;34m\u001b[0m\u001b[0m\n\u001b[0;32m----> 2\u001b[0;31m \u001b[0;32mfrom\u001b[0m \u001b[0mmemory_profiler\u001b[0m \u001b[0;32mimport\u001b[0m \u001b[0mmemory_usage\u001b[0m\u001b[0;34m\u001b[0m\u001b[0;34m\u001b[0m\u001b[0m\n\u001b[0m\u001b[1;32m      3\u001b[0m \u001b[0;32mimport\u001b[0m \u001b[0mtime\u001b[0m\u001b[0;34m\u001b[0m\u001b[0;34m\u001b[0m\u001b[0m\n\u001b[1;32m      4\u001b[0m \u001b[0;34m\u001b[0m\u001b[0m\n\u001b[1;32m      5\u001b[0m \u001b[0;32mdef\u001b[0m \u001b[0msome_function\u001b[0m\u001b[0;34m(\u001b[0m\u001b[0;34m)\u001b[0m\u001b[0;34m:\u001b[0m\u001b[0;34m\u001b[0m\u001b[0;34m\u001b[0m\u001b[0m\n",
            "\u001b[0;31mModuleNotFoundError\u001b[0m: No module named 'memory_profiler'",
            "",
            "\u001b[0;31m---------------------------------------------------------------------------\u001b[0;32m\nNOTE: If your import is failing due to a missing package, you can\nmanually install dependencies using either !pip or !apt.\n\nTo view examples of installing some common dependencies, click the\n\"Open Examples\" button below.\n\u001b[0;31m---------------------------------------------------------------------------\u001b[0m\n"
          ],
          "errorDetails": {
            "actions": [
              {
                "action": "open_url",
                "actionText": "Open Examples",
                "url": "/notebooks/snippets/importing_libraries.ipynb"
              }
            ]
          }
        }
      ]
    },
    {
      "cell_type": "code",
      "source": [
        "# Write a Python program to create and write a list of numbers to a file, one number per line?\n",
        "numbers = [1, 2, 3, 4, 5, 6, 7, 8, 9, 10]\n",
        "filename = 'numbers.txt'\n",
        "\n",
        "with open(filename, 'w') as file:\n",
        "    for number in numbers:\n",
        "        file.write(f\"{number}\\n\")"
      ],
      "metadata": {
        "id": "LZs7kvzeqVmw"
      },
      "execution_count": 24,
      "outputs": []
    },
    {
      "cell_type": "code",
      "source": [
        "#How would you implement a basic logging setup that logs to a file with rotation after 1MB?\n",
        "import logging\n",
        "from logging.handlers import RotatingFileHandler\n",
        "logger = logging.getLogger('my_logger')\n",
        "logger.setLevel(logging.DEBUG)\n",
        "handler = RotatingFileHandler('my_app.log', maxBytes=1_000_000, backupCount=3)\n",
        "handler.setLevel(logging.DEBUG)\n",
        "formatter = logging.Formatter('%(asctime)s - %(levelname)s - %(message)s')\n",
        "handler.setFormatter(formatter)\n",
        "logger.addHandler(handler)\n",
        "logger.info(\"This is an info message.\")\n",
        "logger.error(\"This is an error message.\")"
      ],
      "metadata": {
        "colab": {
          "base_uri": "https://localhost:8080/"
        },
        "id": "yh2JbqXGqmlm",
        "outputId": "09b9456c-a652-4f67-cf66-3ac22ee27c40"
      },
      "execution_count": 25,
      "outputs": [
        {
          "output_type": "stream",
          "name": "stderr",
          "text": [
            "INFO:my_logger:This is an info message.\n",
            "ERROR:my_logger:This is an error message.\n"
          ]
        }
      ]
    },
    {
      "cell_type": "code",
      "source": [
        "# Write a program that handles both IndexError and KeyError using a try-except block?\n",
        "my_list = [10, 20, 30]\n",
        "my_dict = {'a': 1, 'b': 2}\n",
        "try:\n",
        "    print(\"Accessing list element:\", my_list[5])\n",
        "    print(\"Accessing dict value:\", my_dict['c'])\n",
        "except IndexError:\n",
        "    print(\"Error: List index out of range.\")\n",
        "except KeyError:\n",
        "    print(\"Error: Key does not exist in the dictionary.\")"
      ],
      "metadata": {
        "colab": {
          "base_uri": "https://localhost:8080/"
        },
        "id": "ui5FWkK8qw_m",
        "outputId": "8e25bf61-f161-41e1-b570-b240b1101803"
      },
      "execution_count": 26,
      "outputs": [
        {
          "output_type": "stream",
          "name": "stdout",
          "text": [
            "Error: List index out of range.\n"
          ]
        }
      ]
    },
    {
      "cell_type": "code",
      "source": [
        "#How would you open a file and read its contents using a context manager in Python?\n",
        "filename = 'example.txt'\n",
        "with open(filename, 'r') as file:\n",
        "    contents = file.read()\n",
        "\n",
        "print(contents)"
      ],
      "metadata": {
        "colab": {
          "base_uri": "https://localhost:8080/"
        },
        "id": "kf4qXNLwq7_d",
        "outputId": "d9d5f007-6629-4111-9a96-426cc5a33140"
      },
      "execution_count": 27,
      "outputs": [
        {
          "output_type": "stream",
          "name": "stdout",
          "text": [
            "Hello, world!This line will be added at the end.\n",
            "\n"
          ]
        }
      ]
    },
    {
      "cell_type": "code",
      "source": [
        "#Write a Python program that reads a file and prints the number of occurrences of a specific word.\n",
        "filename = 'example.txt'\n",
        "target_word = 'python'\n",
        "try:\n",
        "    with open(filename, 'r') as file:\n",
        "        contents = file.read().lower()\n",
        "    words = contents.split()\n",
        "    count = words.count(target_word.lower())\n",
        "    print(f\"The word '{target_word}' occurs {count} times in the file.\")\n",
        "except FileNotFoundError:\n",
        "    print(f\"Error: The file '{filename}' was not found.\")\n",
        "except Exception as e:\n",
        "    print(f\"An unexpected error occurred: {e}\")"
      ],
      "metadata": {
        "colab": {
          "base_uri": "https://localhost:8080/"
        },
        "id": "sikM6T-orGuJ",
        "outputId": "66015f2f-1b53-4198-b6ac-e65e3caf5277"
      },
      "execution_count": 28,
      "outputs": [
        {
          "output_type": "stream",
          "name": "stdout",
          "text": [
            "The word 'python' occurs 0 times in the file.\n"
          ]
        }
      ]
    },
    {
      "cell_type": "code",
      "source": [
        "#How can you check if a file is empty before attempting to read its contents?\n",
        "import os\n",
        "\n",
        "filename = 'example.txt'\n",
        "\n",
        "if os.path.exists(filename) and os.path.getsize(filename) > 0:\n",
        "    with open(filename, 'r') as file:\n",
        "        contents = file.read()\n",
        "        print(contents)\n",
        "else:\n",
        "    print(f\"The file '{filename}' is empty or does not exist.\")"
      ],
      "metadata": {
        "colab": {
          "base_uri": "https://localhost:8080/"
        },
        "id": "kq7MWmFYrR-Z",
        "outputId": "1af6a9c9-cb0f-4e02-a823-ca6eba77da4f"
      },
      "execution_count": 29,
      "outputs": [
        {
          "output_type": "stream",
          "name": "stdout",
          "text": [
            "Hello, world!This line will be added at the end.\n",
            "\n"
          ]
        }
      ]
    },
    {
      "cell_type": "code",
      "source": [
        "#Write a Python program that writes to a log file when an error occurs during file handling.\n",
        "import logging\n",
        "logging.basicConfig(\n",
        "    filename='file_errors.log',\n",
        "    level=logging.ERROR,\n",
        "    format='%(asctime)s - %(levelname)s - %(message)s'\n",
        ")\n",
        "filename = 'example.txt'\n",
        "try:\n",
        "    with open(filename, 'r') as file:\n",
        "        contents = file.read()\n",
        "        print(contents)\n",
        "except Exception as e:\n",
        "    error_message = f\"Error occurred while handling the file '{filename}': {e}\"\n",
        "    print(error_message)\n",
        "    logging.error(error_message)"
      ],
      "metadata": {
        "colab": {
          "base_uri": "https://localhost:8080/"
        },
        "id": "BFpyFY59rdk4",
        "outputId": "fec52647-c81d-4b18-a779-117356cca047"
      },
      "execution_count": 30,
      "outputs": [
        {
          "output_type": "stream",
          "name": "stdout",
          "text": [
            "Hello, world!This line will be added at the end.\n",
            "\n"
          ]
        }
      ]
    }
  ]
}